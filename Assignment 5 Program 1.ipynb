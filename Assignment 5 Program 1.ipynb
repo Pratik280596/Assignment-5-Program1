{
 "cells": [
  {
   "cell_type": "code",
   "execution_count": null,
   "id": "92cb38ca",
   "metadata": {},
   "outputs": [],
   "source": [
    "#Write a Python class to implement pow(x, n)"
   ]
  },
  {
   "cell_type": "code",
   "execution_count": 3,
   "id": "dda70b05",
   "metadata": {},
   "outputs": [
    {
     "name": "stdout",
     "output_type": "stream",
     "text": [
      "100.0\n"
     ]
    }
   ],
   "source": [
    "#Creating class\n",
    "class Solution(object):\n",
    "    \n",
    "    # Defining Power\n",
    "   def Pow(self, x, n):\n",
    "      power = abs(n)\n",
    "      res = 1.0\n",
    "      while power:\n",
    "         if power & 1:\n",
    "            res*=x\n",
    "         x*=x\n",
    "         power>>=1\n",
    "      if n<0:\n",
    "         return 1/res\n",
    "      return res\n",
    "ob1 = Solution()\n",
    "print(ob1.Pow(10 , 2))\n"
   ]
  },
  {
   "cell_type": "code",
   "execution_count": null,
   "id": "311210ba",
   "metadata": {},
   "outputs": [],
   "source": []
  }
 ],
 "metadata": {
  "kernelspec": {
   "display_name": "Python 3 (ipykernel)",
   "language": "python",
   "name": "python3"
  },
  "language_info": {
   "codemirror_mode": {
    "name": "ipython",
    "version": 3
   },
   "file_extension": ".py",
   "mimetype": "text/x-python",
   "name": "python",
   "nbconvert_exporter": "python",
   "pygments_lexer": "ipython3",
   "version": "3.7.0"
  }
 },
 "nbformat": 4,
 "nbformat_minor": 5
}
